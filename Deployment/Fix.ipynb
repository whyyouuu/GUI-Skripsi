{
 "cells": [
  {
   "cell_type": "code",
   "execution_count": 1,
   "id": "8f7ed1d7",
   "metadata": {},
   "outputs": [],
   "source": [
    "import csv\n",
    "import pandas as pd\n",
    "import numpy as np\n",
    "import matplotlib.pyplot as plt\n",
    "import seaborn as sns\n",
    "import nltk\n",
    "import re\n",
    "import tensorflow as tf\n",
    "from tensorflow.keras.preprocessing.text import Tokenizer\n",
    "from tensorflow.keras.preprocessing.sequence import pad_sequences\n",
    "from tensorflow.keras.models import Sequential\n",
    "from tensorflow.keras.layers import Embedding, LSTM, Dense, Dropout, SpatialDropout1D, Bidirectional\n",
    "from tensorflow.keras.callbacks import EarlyStopping\n",
    "from sklearn.preprocessing import LabelEncoder\n",
    "from numpy.random import seed\n",
    "from nltk.tokenize.regexp import regexp_tokenize\n",
    "from nltk.tokenize import RegexpTokenizer\n",
    "seed(1)\n",
    "from tensorflow import random\n",
    "from sklearn.metrics import confusion_matrix, classification_report\n",
    "random.set_seed(1)\n",
    "import matplotlib.pyplot as plt\n",
    "from matplotlib import style\n",
    "style.use('ggplot')\n",
    "from keras.utils import to_categorical\n",
    "from keras.optimizers import Adam"
   ]
  },
  {
   "cell_type": "code",
   "execution_count": 2,
   "id": "64024e03",
   "metadata": {},
   "outputs": [
    {
     "data": {
      "text/html": [
       "<div>\n",
       "<style scoped>\n",
       "    .dataframe tbody tr th:only-of-type {\n",
       "        vertical-align: middle;\n",
       "    }\n",
       "\n",
       "    .dataframe tbody tr th {\n",
       "        vertical-align: top;\n",
       "    }\n",
       "\n",
       "    .dataframe thead th {\n",
       "        text-align: right;\n",
       "    }\n",
       "</style>\n",
       "<table border=\"1\" class=\"dataframe\">\n",
       "  <thead>\n",
       "    <tr style=\"text-align: right;\">\n",
       "      <th></th>\n",
       "      <th>sentiment</th>\n",
       "      <th>content</th>\n",
       "    </tr>\n",
       "  </thead>\n",
       "  <tbody>\n",
       "    <tr>\n",
       "      <th>0</th>\n",
       "      <td>1</td>\n",
       "      <td>al thumama stadium hosts fan leaders moroccan ...</td>\n",
       "    </tr>\n",
       "    <tr>\n",
       "      <th>1</th>\n",
       "      <td>1</td>\n",
       "      <td>qatar becomes open museum preparation fifa wor...</td>\n",
       "    </tr>\n",
       "    <tr>\n",
       "      <th>2</th>\n",
       "      <td>1</td>\n",
       "      <td>fifa trade nfts historic plays ahead 2022 worl...</td>\n",
       "    </tr>\n",
       "    <tr>\n",
       "      <th>3</th>\n",
       "      <td>1</td>\n",
       "      <td>argentina goes crazy release panini official q...</td>\n",
       "    </tr>\n",
       "    <tr>\n",
       "      <th>4</th>\n",
       "      <td>1</td>\n",
       "      <td>minister municipality world cup qatar 2022 con...</td>\n",
       "    </tr>\n",
       "  </tbody>\n",
       "</table>\n",
       "</div>"
      ],
      "text/plain": [
       "   sentiment                                            content\n",
       "0          1  al thumama stadium hosts fan leaders moroccan ...\n",
       "1          1  qatar becomes open museum preparation fifa wor...\n",
       "2          1  fifa trade nfts historic plays ahead 2022 worl...\n",
       "3          1  argentina goes crazy release panini official q...\n",
       "4          1  minister municipality world cup qatar 2022 con..."
      ]
     },
     "execution_count": 2,
     "metadata": {},
     "output_type": "execute_result"
    }
   ],
   "source": [
    "dataset = pd.read_csv(\"book1.csv\")\n",
    "dataset.head()"
   ]
  },
  {
   "cell_type": "code",
   "execution_count": 3,
   "id": "94aa10ae",
   "metadata": {},
   "outputs": [],
   "source": [
    "def clean_text(text):\n",
    "    text = text.lower()\n",
    "    text = re.sub(r\"https\\S+|www\\S+https\\S+\", '',text, flags=re.MULTILINE)\n",
    "    text = re.sub(r'#[A-Za-z0-9]+','',text)\n",
    "    text = re.sub(r'@[A-Za-z0-9]+','',text)\n",
    "    text = re.sub(\"'\", \"\", text)\n",
    "    text = re.sub('[()!?]', ' ', text)\n",
    "    text = re.sub('\\[.*?\\]',' ', text)\n",
    "    text = re.sub(\"[^a-z0-9]\",\" \", text)\n",
    "    return text\n",
    "\n",
    "hasil_cleaning = [clean_text(i) for i in dataset[\"content\"]]"
   ]
  },
  {
   "cell_type": "code",
   "execution_count": 4,
   "id": "ddb9d038",
   "metadata": {},
   "outputs": [],
   "source": [
    "dataset = dataset.drop_duplicates('content')"
   ]
  },
  {
   "cell_type": "code",
   "execution_count": 5,
   "id": "0eea77d1",
   "metadata": {},
   "outputs": [],
   "source": [
    "regexp = RegexpTokenizer(r'\\w+|$[0-9]+|\\S+')\n",
    "hasil_tokenize = []\n",
    "for text in hasil_cleaning:\n",
    "    tokens = regexp.tokenize(text)\n",
    "    hasil_tokenize.append(tokens)"
   ]
  },
  {
   "cell_type": "code",
   "execution_count": 6,
   "id": "a7274e47",
   "metadata": {},
   "outputs": [],
   "source": [
    "from nltk.corpus import stopwords\n",
    "stopword = set(stopwords.words('english'))\n",
    "hasil_filter = [[token for token in sub_list if token.lower() not in stopword] for sub_list in hasil_tokenize]"
   ]
  },
  {
   "cell_type": "code",
   "execution_count": 7,
   "id": "ee14686d",
   "metadata": {},
   "outputs": [],
   "source": [
    "from nltk.stem import PorterStemmer\n",
    "stemmer = PorterStemmer()\n",
    "hasil_stemming = [[stemmer.stem(token) for token in text] for text in hasil_filter]"
   ]
  },
  {
   "cell_type": "code",
   "execution_count": 9,
   "id": "6afe20cb",
   "metadata": {},
   "outputs": [],
   "source": [
    "dataset[\"processing_result\"] = hasil_stemming\n",
    "pd.DataFrame(dataset).to_csv('Hasil Pp.csv', index=False, header=True)"
   ]
  },
  {
   "cell_type": "code",
   "execution_count": 10,
   "id": "13ea80ea",
   "metadata": {},
   "outputs": [
    {
     "name": "stdout",
     "output_type": "stream",
     "text": [
      "[1 0 2]\n"
     ]
    }
   ],
   "source": [
    "df = pd.read_csv('Hasil Processing Imbalance.csv')\n",
    "df.head()\n",
    "print(df['sentiment'].unique())"
   ]
  },
  {
   "cell_type": "code",
   "execution_count": 11,
   "id": "aac03716",
   "metadata": {},
   "outputs": [],
   "source": [
    "contents = df['content']\n",
    "sentiments = df['sentiment']"
   ]
  },
  {
   "cell_type": "code",
   "execution_count": 12,
   "id": "853ea865",
   "metadata": {},
   "outputs": [
    {
     "name": "stdout",
     "output_type": "stream",
     "text": [
      "1    200\n",
      "0    150\n",
      "2     90\n",
      "Name: sentiment, dtype: int64\n"
     ]
    }
   ],
   "source": [
    "sentiments_count = sentiments.value_counts()\n",
    "print(sentiments.value_counts())"
   ]
  },
  {
   "cell_type": "code",
   "execution_count": 13,
   "id": "ecf4e116",
   "metadata": {},
   "outputs": [],
   "source": [
    "from sklearn.model_selection import train_test_split\n",
    "X = contents\n",
    "y = sentiments\n",
    "X_train, X_test, y_train, y_test = train_test_split(X, y, test_size=0.2, random_state=42)"
   ]
  },
  {
   "cell_type": "code",
   "execution_count": 14,
   "id": "86528f3e",
   "metadata": {},
   "outputs": [],
   "source": [
    "tokenizer = Tokenizer()\n",
    "tokenizer.fit_on_texts(X)"
   ]
  },
  {
   "cell_type": "code",
   "execution_count": 15,
   "id": "f4ff7821",
   "metadata": {},
   "outputs": [],
   "source": [
    "sequences_train = tokenizer.texts_to_sequences(X_train)\n",
    "sequences_test = tokenizer.texts_to_sequences(X_test)\n",
    "sequence = tokenizer.texts_to_sequences(X)\n",
    "max_length = max([len(s) for s in sequence])\n",
    "\n",
    "X_train = pad_sequences(sequences_train, maxlen=max_length)\n",
    "X_test = pad_sequences(sequences_test, maxlen=max_length)"
   ]
  },
  {
   "cell_type": "code",
   "execution_count": 16,
   "id": "4abda858",
   "metadata": {},
   "outputs": [],
   "source": [
    "y_train = to_categorical(y_train, 3)\n",
    "y_test = to_categorical(y_test, 3)"
   ]
  },
  {
   "cell_type": "code",
   "execution_count": 17,
   "id": "4202c31c",
   "metadata": {},
   "outputs": [
    {
     "name": "stdout",
     "output_type": "stream",
     "text": [
      "Model: \"sequential\"\n",
      "_________________________________________________________________\n",
      " Layer (type)                Output Shape              Param #   \n",
      "=================================================================\n",
      " embedding (Embedding)       (None, None, 32)          160000    \n",
      "                                                                 \n",
      " dropout (Dropout)           (None, None, 32)          0         \n",
      "                                                                 \n",
      " lstm (LSTM)                 (None, 32)                8320      \n",
      "                                                                 \n",
      " dense (Dense)               (None, 3)                 99        \n",
      "                                                                 \n",
      "=================================================================\n",
      "Total params: 168,419\n",
      "Trainable params: 168,419\n",
      "Non-trainable params: 0\n",
      "_________________________________________________________________\n"
     ]
    }
   ],
   "source": [
    "from tensorflow.keras.callbacks import EarlyStopping\n",
    "from keras.optimizers import Adam\n",
    "vocab_size = 5000\n",
    "embedding_dim = 32\n",
    "model = Sequential()\n",
    "model.add(Embedding(vocab_size, embedding_dim))\n",
    "model.add(Dropout(0.5))\n",
    "model.add(LSTM(embedding_dim))\n",
    "model.add(Dense(3, activation='softmax'))\n",
    "optimizer = Adam(learning_rate=0.001)\n",
    "model.compile(\n",
    "    loss='categorical_crossentropy',\n",
    "    optimizer=optimizer,\n",
    "    metrics=['accuracy'],\n",
    ")\n",
    "model.summary()"
   ]
  },
  {
   "cell_type": "code",
   "execution_count": 18,
   "id": "230f3912",
   "metadata": {},
   "outputs": [
    {
     "name": "stdout",
     "output_type": "stream",
     "text": [
      "Epoch 1/50\n",
      "22/22 [==============================] - 5s 35ms/step - loss: 1.0864 - accuracy: 0.4347 - val_loss: 1.0705 - val_accuracy: 0.4432\n",
      "Epoch 2/50\n",
      "22/22 [==============================] - 0s 9ms/step - loss: 1.0419 - accuracy: 0.4574 - val_loss: 1.0420 - val_accuracy: 0.4432\n",
      "Epoch 3/50\n",
      "22/22 [==============================] - 0s 9ms/step - loss: 0.9932 - accuracy: 0.4574 - val_loss: 1.0130 - val_accuracy: 0.4432\n",
      "Epoch 4/50\n",
      "22/22 [==============================] - 0s 8ms/step - loss: 0.9160 - accuracy: 0.4716 - val_loss: 0.9743 - val_accuracy: 0.4659\n",
      "Epoch 5/50\n",
      "22/22 [==============================] - 0s 10ms/step - loss: 0.7725 - accuracy: 0.6733 - val_loss: 0.9134 - val_accuracy: 0.6364\n",
      "Epoch 6/50\n",
      "22/22 [==============================] - 0s 9ms/step - loss: 0.6160 - accuracy: 0.8040 - val_loss: 0.7874 - val_accuracy: 0.6136\n",
      "Epoch 7/50\n",
      "22/22 [==============================] - 0s 8ms/step - loss: 0.4660 - accuracy: 0.8977 - val_loss: 0.8980 - val_accuracy: 0.5114\n",
      "Epoch 8/50\n",
      "22/22 [==============================] - 0s 9ms/step - loss: 0.3636 - accuracy: 0.9261 - val_loss: 0.7774 - val_accuracy: 0.6705\n",
      "Epoch 9/50\n",
      "22/22 [==============================] - 0s 8ms/step - loss: 0.2306 - accuracy: 0.9460 - val_loss: 0.8810 - val_accuracy: 0.6932\n",
      "Epoch 10/50\n",
      "22/22 [==============================] - 0s 8ms/step - loss: 0.1721 - accuracy: 0.9659 - val_loss: 0.6960 - val_accuracy: 0.7045\n",
      "Epoch 11/50\n",
      "22/22 [==============================] - 0s 9ms/step - loss: 0.1273 - accuracy: 0.9830 - val_loss: 0.8268 - val_accuracy: 0.6477\n",
      "Epoch 12/50\n",
      "22/22 [==============================] - 0s 9ms/step - loss: 0.1057 - accuracy: 0.9830 - val_loss: 0.6504 - val_accuracy: 0.7500\n",
      "Epoch 13/50\n",
      "22/22 [==============================] - 0s 8ms/step - loss: 0.0837 - accuracy: 0.9858 - val_loss: 0.6544 - val_accuracy: 0.7045\n",
      "Epoch 14/50\n",
      "22/22 [==============================] - 0s 8ms/step - loss: 0.0646 - accuracy: 0.9943 - val_loss: 0.7652 - val_accuracy: 0.6932\n",
      "Epoch 15/50\n",
      "22/22 [==============================] - 0s 8ms/step - loss: 0.0463 - accuracy: 0.9915 - val_loss: 0.7105 - val_accuracy: 0.7045\n",
      "Epoch 16/50\n",
      "22/22 [==============================] - 0s 9ms/step - loss: 0.0406 - accuracy: 1.0000 - val_loss: 0.8582 - val_accuracy: 0.6818\n",
      "Epoch 17/50\n",
      "22/22 [==============================] - 0s 8ms/step - loss: 0.0409 - accuracy: 0.9886 - val_loss: 0.6482 - val_accuracy: 0.7273\n",
      "Epoch 18/50\n",
      "22/22 [==============================] - 0s 9ms/step - loss: 0.0282 - accuracy: 0.9972 - val_loss: 0.8283 - val_accuracy: 0.7159\n",
      "Epoch 19/50\n",
      "22/22 [==============================] - 0s 9ms/step - loss: 0.0229 - accuracy: 0.9972 - val_loss: 0.7476 - val_accuracy: 0.7159\n",
      "Epoch 20/50\n",
      "22/22 [==============================] - 0s 8ms/step - loss: 0.0148 - accuracy: 1.0000 - val_loss: 0.8228 - val_accuracy: 0.7159\n",
      "Epoch 21/50\n",
      "22/22 [==============================] - 0s 8ms/step - loss: 0.0118 - accuracy: 1.0000 - val_loss: 0.9380 - val_accuracy: 0.7159\n",
      "Epoch 22/50\n",
      "22/22 [==============================] - 0s 8ms/step - loss: 0.0156 - accuracy: 0.9972 - val_loss: 0.9909 - val_accuracy: 0.6818\n",
      "Epoch 23/50\n",
      "22/22 [==============================] - 0s 8ms/step - loss: 0.0205 - accuracy: 1.0000 - val_loss: 0.6991 - val_accuracy: 0.7386\n",
      "Epoch 24/50\n",
      "22/22 [==============================] - 0s 9ms/step - loss: 0.0113 - accuracy: 1.0000 - val_loss: 0.8357 - val_accuracy: 0.6932\n",
      "Epoch 25/50\n",
      "22/22 [==============================] - 0s 9ms/step - loss: 0.0103 - accuracy: 1.0000 - val_loss: 0.7720 - val_accuracy: 0.7045\n",
      "Epoch 26/50\n",
      "22/22 [==============================] - 0s 9ms/step - loss: 0.0097 - accuracy: 1.0000 - val_loss: 0.7378 - val_accuracy: 0.7386\n",
      "Epoch 27/50\n",
      "22/22 [==============================] - 0s 8ms/step - loss: 0.0259 - accuracy: 0.9972 - val_loss: 0.7965 - val_accuracy: 0.6932\n",
      "Epoch 28/50\n",
      "22/22 [==============================] - 0s 9ms/step - loss: 0.0099 - accuracy: 1.0000 - val_loss: 0.6356 - val_accuracy: 0.7386\n",
      "Epoch 29/50\n",
      "22/22 [==============================] - 0s 9ms/step - loss: 0.0082 - accuracy: 1.0000 - val_loss: 0.7445 - val_accuracy: 0.7273\n",
      "Epoch 30/50\n",
      "22/22 [==============================] - 0s 8ms/step - loss: 0.0089 - accuracy: 0.9972 - val_loss: 0.8680 - val_accuracy: 0.7386\n",
      "Epoch 31/50\n",
      "22/22 [==============================] - 0s 8ms/step - loss: 0.0072 - accuracy: 1.0000 - val_loss: 0.7875 - val_accuracy: 0.7159\n",
      "Epoch 32/50\n",
      "22/22 [==============================] - 0s 9ms/step - loss: 0.0157 - accuracy: 0.9943 - val_loss: 0.7261 - val_accuracy: 0.7045\n",
      "Epoch 33/50\n",
      "22/22 [==============================] - 0s 9ms/step - loss: 0.0081 - accuracy: 1.0000 - val_loss: 1.0239 - val_accuracy: 0.6818\n",
      "Epoch 34/50\n",
      "22/22 [==============================] - 0s 8ms/step - loss: 0.0067 - accuracy: 1.0000 - val_loss: 0.8342 - val_accuracy: 0.7273\n",
      "Epoch 35/50\n",
      "22/22 [==============================] - 0s 9ms/step - loss: 0.0044 - accuracy: 1.0000 - val_loss: 0.9865 - val_accuracy: 0.6932\n",
      "Epoch 36/50\n",
      "22/22 [==============================] - 0s 8ms/step - loss: 0.0039 - accuracy: 1.0000 - val_loss: 1.0662 - val_accuracy: 0.6932\n",
      "Epoch 37/50\n",
      "22/22 [==============================] - 0s 8ms/step - loss: 0.0030 - accuracy: 1.0000 - val_loss: 0.9785 - val_accuracy: 0.6932\n",
      "Epoch 38/50\n",
      "22/22 [==============================] - 0s 8ms/step - loss: 0.0029 - accuracy: 1.0000 - val_loss: 1.1115 - val_accuracy: 0.7045\n",
      "Epoch 39/50\n",
      "22/22 [==============================] - 0s 9ms/step - loss: 0.0023 - accuracy: 1.0000 - val_loss: 1.2591 - val_accuracy: 0.6818\n",
      "Epoch 40/50\n",
      "22/22 [==============================] - 0s 8ms/step - loss: 0.0031 - accuracy: 1.0000 - val_loss: 1.1392 - val_accuracy: 0.6818\n",
      "Epoch 41/50\n",
      "22/22 [==============================] - 0s 8ms/step - loss: 0.0043 - accuracy: 1.0000 - val_loss: 1.0027 - val_accuracy: 0.6818\n",
      "Epoch 42/50\n",
      "22/22 [==============================] - 0s 8ms/step - loss: 0.0039 - accuracy: 1.0000 - val_loss: 0.9350 - val_accuracy: 0.7159\n",
      "Epoch 43/50\n",
      "22/22 [==============================] - 0s 8ms/step - loss: 0.0028 - accuracy: 1.0000 - val_loss: 0.9429 - val_accuracy: 0.7045\n",
      "Epoch 44/50\n",
      "22/22 [==============================] - 0s 8ms/step - loss: 0.0030 - accuracy: 1.0000 - val_loss: 1.0319 - val_accuracy: 0.6932\n",
      "Epoch 45/50\n",
      "22/22 [==============================] - 0s 8ms/step - loss: 0.0021 - accuracy: 1.0000 - val_loss: 1.0593 - val_accuracy: 0.6818\n",
      "Epoch 46/50\n",
      "22/22 [==============================] - 0s 8ms/step - loss: 0.0024 - accuracy: 1.0000 - val_loss: 1.0259 - val_accuracy: 0.7045\n",
      "Epoch 47/50\n",
      "22/22 [==============================] - 0s 9ms/step - loss: 0.0016 - accuracy: 1.0000 - val_loss: 1.0979 - val_accuracy: 0.7045\n",
      "Epoch 48/50\n",
      "22/22 [==============================] - 0s 8ms/step - loss: 0.0017 - accuracy: 1.0000 - val_loss: 1.1640 - val_accuracy: 0.6818\n",
      "Epoch 49/50\n",
      "22/22 [==============================] - 0s 8ms/step - loss: 0.0026 - accuracy: 1.0000 - val_loss: 0.9395 - val_accuracy: 0.6932\n",
      "Epoch 50/50\n",
      "22/22 [==============================] - 0s 8ms/step - loss: 0.0028 - accuracy: 1.0000 - val_loss: 1.0580 - val_accuracy: 0.6932\n"
     ]
    }
   ],
   "source": [
    "batch_size=16\n",
    "history = model.fit(X_train, y_train, batch_size=batch_size, epochs=50, validation_data=(X_test, y_test))"
   ]
  },
  {
   "cell_type": "code",
   "execution_count": 19,
   "id": "b39785f1",
   "metadata": {},
   "outputs": [
    {
     "name": "stdout",
     "output_type": "stream",
     "text": [
      "6/6 - 0s - loss: 1.0580 - accuracy: 0.6932 - 29ms/epoch - 5ms/step\n",
      "3/3 [==============================] - 0s 5ms/step\n"
     ]
    }
   ],
   "source": [
    "accuracy = model.evaluate(X_test, y_test, verbose=2, batch_size=batch_size)\n",
    "y_pred = model.predict(X_test)\n",
    "y_pred=np.argmax(y_pred, axis=1)\n",
    "y_test = np.argmax(y_test, axis=1)"
   ]
  },
  {
   "cell_type": "code",
   "execution_count": null,
   "id": "3584878c",
   "metadata": {},
   "outputs": [],
   "source": [
    "model.save(\"TestModelFix\")"
   ]
  },
  {
   "cell_type": "code",
   "execution_count": 20,
   "id": "5798edba",
   "metadata": {},
   "outputs": [
    {
     "data": {
      "image/png": "[encoded data removed]",
      "text/plain": [
       "<Figure size 1152x360 with 1 Axes>"
      ]
     },
     "metadata": {},
     "output_type": "display_data"
    }
   ],
   "source": [
    "plt.figure(figsize=(16,5))\n",
    "epochs = range(1, len(history.history['accuracy'])+1)\n",
    "plt.plot(epochs, history.history['loss'], 'b', label='training loss', color='red')\n",
    "plt.plot(epochs, history.history['val_loss'], 'b', label='validation loss')\n",
    "plt.legend()\n",
    "plt.show()"
   ]
  },
  {
   "cell_type": "code",
   "execution_count": 21,
   "id": "dcb09af9",
   "metadata": {},
   "outputs": [
    {
     "data": {
      "image/png": "[encoded data removed]",
      "text/plain": [
       "<Figure size 1152x360 with 1 Axes>"
      ]
     },
     "metadata": {},
     "output_type": "display_data"
    }
   ],
   "source": [
    "plt.figure(figsize=(16,5))\n",
    "epochs = range(1, len(history.history['accuracy'])+1)\n",
    "plt.plot(epochs, history.history['accuracy'], 'b', label='training accuracy', color='red')\n",
    "plt.plot(epochs, history.history['val_accuracy'], 'b', label='validation accuracy')\n",
    "plt.legend(loc='lower right')\n",
    "plt.show()"
   ]
  },
  {
   "cell_type": "code",
   "execution_count": 22,
   "id": "dba82ab9",
   "metadata": {},
   "outputs": [
    {
     "name": "stdout",
     "output_type": "stream",
     "text": [
      "[[26  4  0]\n",
      " [12 27  0]\n",
      " [ 8  3  8]]\n"
     ]
    }
   ],
   "source": [
    "from sklearn.metrics import confusion_matrix, classification_report\n",
    "cm = confusion_matrix(y_test,y_pred)\n",
    "print(cm)"
   ]
  },
  {
   "cell_type": "code",
   "execution_count": 23,
   "id": "a8a1f272",
   "metadata": {},
   "outputs": [
    {
     "name": "stdout",
     "output_type": "stream",
     "text": [
      "              precision    recall  f1-score   support\n",
      "\n",
      "    Positive       0.57      0.87      0.68        30\n",
      "     Neutral       0.79      0.69      0.74        39\n",
      "    Negative       1.00      0.42      0.59        19\n",
      "\n",
      "    accuracy                           0.69        88\n",
      "   macro avg       0.79      0.66      0.67        88\n",
      "weighted avg       0.76      0.69      0.69        88\n",
      "\n"
     ]
    }
   ],
   "source": [
    "print(classification_report(y_test, y_pred, target_names=['Positive', 'Neutral', 'Negative']))"
   ]
  },
  {
   "cell_type": "code",
   "execution_count": null,
   "id": "00203af6",
   "metadata": {},
   "outputs": [],
   "source": []
  }
 ],
 "metadata": {
  "kernelspec": {
   "display_name": "Python 3",
   "language": "python",
   "name": "python3"
  },
  "language_info": {
   "codemirror_mode": {
    "name": "ipython",
    "version": 3
   },
   "file_extension": ".py",
   "mimetype": "text/x-python",
   "name": "python",
   "nbconvert_exporter": "python",
   "pygments_lexer": "ipython3",
   "version": "3.8.8"
  }
 },
 "nbformat": 4,
 "nbformat_minor": 5
}
